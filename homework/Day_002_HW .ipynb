{
 "cells": [
  {
   "cell_type": "markdown",
   "metadata": {},
   "source": [
    "## [作業目標]\n",
    "了解機器學習適合應用的領域與範疇。"
   ]
  },
  {
   "cell_type": "markdown",
   "metadata": {},
   "source": [
    "## [作業重點]\n",
    "透過瞭解機器學習的運作方式，找出非常適用機器學習應用的領域及其原因"
   ]
  },
  {
   "cell_type": "markdown",
   "metadata": {},
   "source": [
    "## 作業\n",
    "請找出一個你認為機器學習可以發光發熱的領域並闡述原因? "
   ]
  },
  {
   "cell_type": "markdown",
   "metadata": {},
   "source": [
    "   精準學程 協助人們高效率學習\n",
    "   \n",
    "   透過過去該校學生的學習經驗、課表、修課成績、他人評比...等眾多因素做訓練，設計一個模型，\n",
    "   新生可在入學時透過筆試、學習情況問卷與專業人員面試得到標籤，並透過模型得到最適合自己的課程安排，\n",
    "   同時，每學期的各項資料會加入做運算，讓模型得出的結果更貼近學生的需求，希望所有人都能最有效率的精準學習。\n",
    "   \n",
    "   例如：\n",
    "   A生修B師所開設的課程，成績明顯低於班上平均，但A生修其他課程的成績表現皆很優異，\n",
    "   深入探討後發現：\n",
    "   1. A生在B師課的出席率明顯低於其他課\n",
    "   2. B師的課程過去學生的評價是多用投影片的教學方式，因此會貼上投影片授課標籤\n",
    "   3. A生的書報討論課成績特別突出\n",
    "   4. 在問卷統計中發現，A生在B師課所花費的時間並沒有低於其他同學的平均\n",
    "   因此得到結論，比起投影片授課的上課方式，A生更適合書報討論的學習方式，\n",
    "   若是相同的課程主題，模型會推薦A生修習書報討論類型的課。\n",
    "   \n",
    "   目的：\n",
    "   短期 減少學生選課所花費的時間\n",
    "   中期 學生能選到真正有興趣的課程、最適合自己的學習方式\n",
    "   長期 終身皆能精準學習"
   ]
  }
 ],
 "metadata": {
  "kernelspec": {
   "display_name": "Python 3",
   "language": "python",
   "name": "python3"
  },
  "language_info": {
   "codemirror_mode": {
    "name": "ipython",
    "version": 3
   },
   "file_extension": ".py",
   "mimetype": "text/x-python",
   "name": "python",
   "nbconvert_exporter": "python",
   "pygments_lexer": "ipython3",
   "version": "3.7.3"
  }
 },
 "nbformat": 4,
 "nbformat_minor": 2
}
